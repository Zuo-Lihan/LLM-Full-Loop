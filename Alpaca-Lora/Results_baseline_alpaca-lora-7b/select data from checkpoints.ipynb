{
 "cells": [
  {
   "cell_type": "code",
   "execution_count": 15,
   "id": "5fc11092-144d-4c6f-97a6-d66ebb417f47",
   "metadata": {},
   "outputs": [],
   "source": [
    "import jsonlines"
   ]
  },
  {
   "cell_type": "markdown",
   "id": "6912a3a7-ecd2-4e84-9849-e9e8eb1d5e3d",
   "metadata": {},
   "source": [
    "# MASHQA"
   ]
  },
  {
   "cell_type": "code",
   "execution_count": 17,
   "id": "18b98c0f-fd6e-427f-931d-2b2faf80d034",
   "metadata": {},
   "outputs": [
    {
     "name": "stdout",
     "output_type": "stream",
     "text": [
      "['95', '110', '143', '307', '333', '343', '379', '387', '415', '422', '482', '512', '619', '669', '693', '779', '818', '826', '845', '854', '899', '958', '993', '1038', '1051', '1064', '1095', '1161', '1249', '1298', '1307', '1341', '1346', '1374', '1658', '1666', '1685', '1687', '1750', '1840', '1943', '2015', '2121', '2346', '2347', '2378', '2555', '2561', '2570', '2603']\n"
     ]
    },
    {
     "ename": "FileNotFoundError",
     "evalue": "[Errno 2] No such file or directory: './MASHQA/medAlpaca-7b_response.jsonl'",
     "output_type": "error",
     "traceback": [
      "\u001b[0;31m---------------------------------------------------------------------------\u001b[0m",
      "\u001b[0;31mFileNotFoundError\u001b[0m                         Traceback (most recent call last)",
      "Input \u001b[0;32mIn [17]\u001b[0m, in \u001b[0;36m<cell line: 6>\u001b[0;34m()\u001b[0m\n\u001b[1;32m      4\u001b[0m checkpoints_list \u001b[38;5;241m=\u001b[39m checkpoints_list[\u001b[38;5;241m1\u001b[39m:]\n\u001b[1;32m      5\u001b[0m \u001b[38;5;28mprint\u001b[39m(checkpoints_list)\n\u001b[0;32m----> 6\u001b[0m \u001b[38;5;28;01mwith\u001b[39;00m \u001b[43mjsonlines\u001b[49m\u001b[38;5;241;43m.\u001b[39;49m\u001b[43mopen\u001b[49m\u001b[43m(\u001b[49m\u001b[38;5;124;43m\"\u001b[39;49m\u001b[38;5;124;43m./MASHQA/medAlpaca-7b_response.jsonl\u001b[39;49m\u001b[38;5;124;43m\"\u001b[39;49m\u001b[43m)\u001b[49m \u001b[38;5;28;01mas\u001b[39;00m reader:\n\u001b[1;32m      7\u001b[0m     reader \u001b[38;5;241m=\u001b[39m \u001b[38;5;28mlist\u001b[39m(reader)\n\u001b[1;32m      8\u001b[0m     \u001b[38;5;28;01mfor\u001b[39;00m i, line \u001b[38;5;129;01min\u001b[39;00m \u001b[38;5;28menumerate\u001b[39m(reader):\n",
      "File \u001b[0;32m~/miniconda3/lib/python3.8/site-packages/jsonlines/jsonlines.py:643\u001b[0m, in \u001b[0;36mopen\u001b[0;34m(file, mode, loads, dumps, compact, sort_keys, flush)\u001b[0m\n\u001b[1;32m    641\u001b[0m \u001b[38;5;28mcls\u001b[39m \u001b[38;5;241m=\u001b[39m Reader \u001b[38;5;28;01mif\u001b[39;00m mode \u001b[38;5;241m==\u001b[39m \u001b[38;5;124m\"\u001b[39m\u001b[38;5;124mr\u001b[39m\u001b[38;5;124m\"\u001b[39m \u001b[38;5;28;01melse\u001b[39;00m Writer\n\u001b[1;32m    642\u001b[0m encoding \u001b[38;5;241m=\u001b[39m \u001b[38;5;124m\"\u001b[39m\u001b[38;5;124mutf-8-sig\u001b[39m\u001b[38;5;124m\"\u001b[39m \u001b[38;5;28;01mif\u001b[39;00m mode \u001b[38;5;241m==\u001b[39m \u001b[38;5;124m\"\u001b[39m\u001b[38;5;124mr\u001b[39m\u001b[38;5;124m\"\u001b[39m \u001b[38;5;28;01melse\u001b[39;00m \u001b[38;5;124m\"\u001b[39m\u001b[38;5;124mutf-8\u001b[39m\u001b[38;5;124m\"\u001b[39m\n\u001b[0;32m--> 643\u001b[0m fp \u001b[38;5;241m=\u001b[39m \u001b[43mbuiltins\u001b[49m\u001b[38;5;241;43m.\u001b[39;49m\u001b[43mopen\u001b[49m\u001b[43m(\u001b[49m\u001b[43mfile\u001b[49m\u001b[43m,\u001b[49m\u001b[43m \u001b[49m\u001b[43mmode\u001b[49m\u001b[38;5;241;43m=\u001b[39;49m\u001b[43mmode\u001b[49m\u001b[43m \u001b[49m\u001b[38;5;241;43m+\u001b[39;49m\u001b[43m \u001b[49m\u001b[38;5;124;43m\"\u001b[39;49m\u001b[38;5;124;43mt\u001b[39;49m\u001b[38;5;124;43m\"\u001b[39;49m\u001b[43m,\u001b[49m\u001b[43m \u001b[49m\u001b[43mencoding\u001b[49m\u001b[38;5;241;43m=\u001b[39;49m\u001b[43mencoding\u001b[49m\u001b[43m)\u001b[49m\n\u001b[1;32m    644\u001b[0m kwargs \u001b[38;5;241m=\u001b[39m \u001b[38;5;28mdict\u001b[39m(\n\u001b[1;32m    645\u001b[0m     loads\u001b[38;5;241m=\u001b[39mloads,\n\u001b[1;32m    646\u001b[0m     dumps\u001b[38;5;241m=\u001b[39mdumps,\n\u001b[0;32m   (...)\u001b[0m\n\u001b[1;32m    649\u001b[0m     flush\u001b[38;5;241m=\u001b[39mflush,\n\u001b[1;32m    650\u001b[0m )\n\u001b[1;32m    651\u001b[0m kwargs \u001b[38;5;241m=\u001b[39m {key: value \u001b[38;5;28;01mfor\u001b[39;00m key, value \u001b[38;5;129;01min\u001b[39;00m kwargs\u001b[38;5;241m.\u001b[39mitems() \u001b[38;5;28;01mif\u001b[39;00m value \u001b[38;5;129;01mis\u001b[39;00m \u001b[38;5;129;01mnot\u001b[39;00m \u001b[38;5;28;01mNone\u001b[39;00m}\n",
      "\u001b[0;31mFileNotFoundError\u001b[0m: [Errno 2] No such file or directory: './MASHQA/medAlpaca-7b_response.jsonl'"
     ]
    }
   ],
   "source": [
    "count = 0\n",
    "with open(\"/root/autodl-tmp/MASHQA_checkpoints.txt\", \"r\") as f:\n",
    "    checkpoints_list = f.readline().split(\" \")\n",
    "checkpoints_list = checkpoints_list[1:]\n",
    "print(checkpoints_list)\n",
    "with jsonlines.open(\"./MASHQA/alpaca-lora-7b_response.jsonl\") as reader:\n",
    "    reader = list(reader)\n",
    "    for i, line in enumerate(reader):\n",
    "        if(count == 50):\n",
    "            break\n",
    "        else:\n",
    "            if(i == int(checkpoints_list[count])):\n",
    "                writer = jsonlines.open(\"./MASHQA/select_response.jsonl\", mode=\"a\")\n",
    "                writer.write(line)\n",
    "                writer.close()\n",
    "                count = count+1\n",
    "            else:\n",
    "                continue"
   ]
  },
  {
   "cell_type": "markdown",
   "id": "67b4eed2-a6e2-4cca-b7f5-b967fdb89b5b",
   "metadata": {},
   "source": [
    "# MEDIQA2019"
   ]
  },
  {
   "cell_type": "code",
   "execution_count": 14,
   "id": "fd729277-5c5e-47cf-8a1b-7ab35b2a2e14",
   "metadata": {},
   "outputs": [
    {
     "name": "stdout",
     "output_type": "stream",
     "text": [
      "['2', '4', '6', '10', '12', '15', '19', '20', '23', '24', '25', '26', '28', '29', '30', '31', '32', '34', '36', '38', '39', '43', '51', '53', '66', '73', '79', '81', '83', '84', '85', '88', '90', '97', '104', '105', '109', '115', '116', '121', '123', '125', '127', '133', '136', '138', '139', '140', '143', '147']\n"
     ]
    }
   ],
   "source": [
    "count = 0\n",
    "with open(\"/root/autodl-tmp/MEDIQA2019_checkpoints.txt\", \"r\") as f:\n",
    "    checkpoints_list = f.readline().split(\" \")\n",
    "checkpoints_list = checkpoints_list[1:]\n",
    "print(checkpoints_list)\n",
    "with jsonlines.open(\"./MEDIQA2019/alpaca-lora-7b_response.jsonl\") as reader:\n",
    "    reader = list(reader)\n",
    "    for i, line in enumerate(reader):\n",
    "        if(count == 50):\n",
    "            break\n",
    "        else:\n",
    "            if(i == int(checkpoints_list[count])):\n",
    "                writer = jsonlines.open(\"./MEDIQA2019/select_response.jsonl\", mode=\"a\")\n",
    "                writer.write(line)\n",
    "                writer.close()\n",
    "                count = count+1\n",
    "            else:\n",
    "                continue"
   ]
  },
  {
   "cell_type": "code",
   "execution_count": null,
   "id": "66dae075-d0f1-41b1-86e5-531ceabe4912",
   "metadata": {},
   "outputs": [],
   "source": []
  }
 ],
 "metadata": {
  "kernelspec": {
   "display_name": "Python 3 (ipykernel)",
   "language": "python",
   "name": "python3"
  },
  "language_info": {
   "codemirror_mode": {
    "name": "ipython",
    "version": 3
   },
   "file_extension": ".py",
   "mimetype": "text/x-python",
   "name": "python",
   "nbconvert_exporter": "python",
   "pygments_lexer": "ipython3",
   "version": "3.8.10"
  }
 },
 "nbformat": 4,
 "nbformat_minor": 5
}
