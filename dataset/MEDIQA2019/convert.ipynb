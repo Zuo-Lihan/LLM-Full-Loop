{
 "cells": [
  {
   "cell_type": "code",
   "execution_count": 12,
   "metadata": {},
   "outputs": [],
   "source": [
    "import xml.dom.minidom\n",
    "import json\n",
    "import re"
   ]
  },
  {
   "cell_type": "code",
   "execution_count": 13,
   "metadata": {},
   "outputs": [],
   "source": [
    "last_question_id = \"question_id\"\n",
    "map_answer = {}\n",
    "with open(\"Eval_Scripts/data/QA_testSet_ground_truth_round_2.txt\") as f:\n",
    "    for i, line in enumerate(f.readlines()):\n",
    "        question_id, answer_id, label = line.strip().split(\",\")\n",
    "        if last_question_id != question_id:\n",
    "            assert question_id not in map_answer.keys()\n",
    "            assert label == '1'\n",
    "            map_answer.update({question_id: answer_id})\n",
    "                \n",
    "        last_question_id = question_id"
   ]
  },
  {
   "cell_type": "code",
   "execution_count": 14,
   "metadata": {},
   "outputs": [],
   "source": [
    "def convert(root, out_file):\n",
    "    with open(out_file, 'w') as outfile:\n",
    "        for quetion in root.getElementsByTagName('Question'):\n",
    "            assert len(quetion.attributes.items())==1\n",
    "            assert len(quetion.attributes.items()[0])==2\n",
    "            qid = quetion.attributes.items()[0][1]\n",
    "            best_aid = map_answer[qid]\n",
    "            q = quetion.getElementsByTagName(\"QuestionText\")[0].childNodes[0].data.strip()\n",
    "            q = re.sub(\"\\u00a0\", \" \", q)\n",
    "            q_items = q.split(\". \")\n",
    "            if len(q_items) > 1:\n",
    "                q = \". \".join(q_items[1:]).strip()\n",
    "\n",
    "            url = ''\n",
    "            answer = ''\n",
    "            for a in quetion.getElementsByTagName(\"Answer\"):\n",
    "                assert len(a.attributes.items()) == 4\n",
    "                aid = a.attributes.items()[0][1]\n",
    "                if aid == best_aid:\n",
    "                    url = a.getElementsByTagName(\"AnswerURL\").item(0).childNodes[0].data.strip()\n",
    "                    answer = a.getElementsByTagName(\"AnswerText\").item(0).childNodes[0].data.strip()\n",
    "                    break\n",
    "            answer = re.sub(\"\\u00a0\", \" \", answer)\n",
    "\n",
    "            assert url and answer\n",
    "\n",
    "            subject = ''\n",
    "            a_items = answer.split(\":\")\n",
    "            if len(a_items) > 1:\n",
    "                subject = a_items[0].strip()\n",
    "                answer = \":\".join(a_items[1:]).strip()\n",
    "\n",
    "\n",
    "            entry = {'id': qid,\n",
    "                    'subject': subject,\n",
    "                     'url': [url],\n",
    "                     'context': \"\",\n",
    "                     'question': q, \n",
    "                     'answer': [answer]}\n",
    "\n",
    "            json.dump(entry, outfile)\n",
    "            outfile.write('\\n')"
   ]
  },
  {
   "cell_type": "code",
   "execution_count": 15,
   "metadata": {},
   "outputs": [],
   "source": [
    "dom = xml.dom.minidom.parse('MEDIQA_Task3_QA/MEDIQA2019-Task3-QA-TestSet-wLabels.xml')\n",
    "root = dom.documentElement\n",
    "convert(root, 'test_data.jsonl')"
   ]
  },
  {
   "cell_type": "code",
   "execution_count": 16,
   "metadata": {},
   "outputs": [],
   "source": [
    "last_question_id = \"question_id\"\n",
    "map_answer = {}\n",
    "with open(\"Eval_Scripts/data/QA_validationSet_ground_truth.txt\") as f:\n",
    "    for i, line in enumerate(f.readlines()):\n",
    "        question_id, answer_id, label = line.strip().split(\",\")\n",
    "        if last_question_id != question_id:\n",
    "            assert question_id not in map_answer.keys()\n",
    "            assert label == '1'\n",
    "            map_answer.update({question_id: answer_id})\n",
    "                \n",
    "        last_question_id = question_id"
   ]
  },
  {
   "cell_type": "code",
   "execution_count": 17,
   "metadata": {},
   "outputs": [],
   "source": [
    "dom = xml.dom.minidom.parse('MEDIQA_Task3_QA/MEDIQA2019-Task3-QA-ValidationSet.xml')\n",
    "root = dom.documentElement\n",
    "convert(root, 'val_data.jsonl')"
   ]
  }
 ],
 "metadata": {
  "kernelspec": {
   "display_name": "Python 3 (ipykernel)",
   "language": "python",
   "name": "python3"
  },
  "language_info": {
   "codemirror_mode": {
    "name": "ipython",
    "version": 3
   },
   "file_extension": ".py",
   "mimetype": "text/x-python",
   "name": "python",
   "nbconvert_exporter": "python",
   "pygments_lexer": "ipython3",
   "version": "3.8.10"
  }
 },
 "nbformat": 4,
 "nbformat_minor": 4
}
