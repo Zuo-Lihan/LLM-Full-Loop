{
 "cells": [
  {
   "cell_type": "code",
   "execution_count": 5,
   "id": "c6a1a419-0f51-44a9-a3ca-36923a675062",
   "metadata": {},
   "outputs": [
    {
     "name": "stderr",
     "output_type": "stream",
     "text": [
      "Some weights of PegasusForConditionalGeneration were not initialized from the model checkpoint at /root/autodl-fs/pegasus-large and are newly initialized: ['model.decoder.embed_positions.weight', 'model.encoder.embed_positions.weight']\n",
      "You should probably TRAIN this model on a down-stream task to be able to use it for predictions and inference.\n",
      "100%|██████████| 2/2 [00:00<00:00, 32.94it/s]\n"
     ]
    },
    {
     "data": {
      "text/plain": [
       "[-3.437635376277996]"
      ]
     },
     "execution_count": 5,
     "metadata": {},
     "output_type": "execute_result"
    }
   ],
   "source": [
    "from ctrleval import CTRLEval\n",
    "task = 'topic' # evaluation for sentiment-controlled text generation\n",
    "scorer = CTRLEval(iwf_dir='iwf_full.txt', prompt_dir='./prompt/prompt_{}.txt'.format(task), verbal_dir='./prompt/verbal_{}.txt'.format(task), model_name_or_path='/root/autodl-fs/pegasus-large')\n",
    "data = ['are they gluten free? To determine if amphetamine salts in the 20mg strength are gluten-free, it is important to refer to reliable sources such as the medication\\'s packaging, product labeling, or consult with healthcare professionals or pharmacists. They can provide accurate information regarding the ingredients used in the medication and whether any potential sources of gluten are present. It is crucial to rely on trusted sources for an authoritative answer on the gluten-free status of amphetamine salts in this specific formulation.']\n",
    "prefix = ['are they gluten free?']\n",
    "label = ['positive']\n",
    "# scorer.score(aspect='coh', data=data, batch_size=1) # evaluation of coherence\n",
    "scorer.score(aspect='cons', data=data, prefix=prefix, batch_size=1) # evaluation of consistency"
   ]
  },
  {
   "cell_type": "code",
   "execution_count": null,
   "id": "701e774e-25e0-4843-86b7-ebc02d62140a",
   "metadata": {},
   "outputs": [],
   "source": []
  }
 ],
 "metadata": {
  "kernelspec": {
   "display_name": "Python 3 (ipykernel)",
   "language": "python",
   "name": "python3"
  },
  "language_info": {
   "codemirror_mode": {
    "name": "ipython",
    "version": 3
   },
   "file_extension": ".py",
   "mimetype": "text/x-python",
   "name": "python",
   "nbconvert_exporter": "python",
   "pygments_lexer": "ipython3",
   "version": "3.8.10"
  }
 },
 "nbformat": 4,
 "nbformat_minor": 5
}
