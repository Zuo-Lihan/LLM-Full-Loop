{
 "cells": [
  {
   "cell_type": "code",
   "execution_count": 1,
   "id": "5fc11092-144d-4c6f-97a6-d66ebb417f47",
   "metadata": {},
   "outputs": [],
   "source": [
    "import jsonlines"
   ]
  },
  {
   "cell_type": "markdown",
   "id": "6912a3a7-ecd2-4e84-9849-e9e8eb1d5e3d",
   "metadata": {},
   "source": [
    "# MASHQA"
   ]
  },
  {
   "cell_type": "code",
   "execution_count": 2,
   "id": "18b98c0f-fd6e-427f-931d-2b2faf80d034",
   "metadata": {},
   "outputs": [
    {
     "name": "stdout",
     "output_type": "stream",
     "text": [
      "['95', '110', '143', '307', '333', '343', '379', '387', '415', '422', '482', '512', '619', '669', '693', '779', '818', '826', '845', '854', '899', '958', '993', '1038', '1051', '1064', '1095', '1161', '1249', '1298', '1307', '1341', '1346', '1374', '1658', '1666', '1685', '1687', '1750', '1840', '1943', '2015', '2121', '2346', '2347', '2378', '2555', '2561', '2570', '2603']\n"
     ]
    }
   ],
   "source": [
    "count = 0\n",
    "with open(\"/root/autodl-tmp/MASHQA_checkpoints.txt\", \"r\") as f:\n",
    "    checkpoints_list = f.readline().split(\" \")\n",
    "checkpoints_list = checkpoints_list[1:]\n",
    "print(checkpoints_list)\n",
    "with jsonlines.open(\"./MASHQA/medAlpaca-7b_response.jsonl\") as reader:\n",
    "    reader = list(reader)\n",
    "    for i, line in enumerate(reader):\n",
    "        if(count == 50):\n",
    "            break\n",
    "        else:\n",
    "            if(i == int(checkpoints_list[count])):\n",
    "                writer = jsonlines.open(\"./MASHQA/select_response.jsonl\", mode=\"a\")\n",
    "                writer.write(line)\n",
    "                writer.close()\n",
    "                count = count+1\n",
    "            else:\n",
    "                continue"
   ]
  },
  {
   "cell_type": "markdown",
   "id": "67b4eed2-a6e2-4cca-b7f5-b967fdb89b5b",
   "metadata": {},
   "source": [
    "# MEDIQA2019"
   ]
  },
  {
   "cell_type": "code",
   "execution_count": 3,
   "id": "fd729277-5c5e-47cf-8a1b-7ab35b2a2e14",
   "metadata": {},
   "outputs": [
    {
     "name": "stdout",
     "output_type": "stream",
     "text": [
      "['2', '4', '6', '10', '12', '15', '19', '20', '23', '24', '25', '26', '28', '29', '30', '31', '32', '34', '36', '38', '39', '43', '51', '53', '66', '73', '79', '81', '83', '84', '85', '88', '90', '97', '104', '105', '109', '115', '116', '121', '123', '125', '127', '133', '136', '138', '139', '140', '143', '147']\n"
     ]
    }
   ],
   "source": [
    "count = 0\n",
    "with open(\"/root/autodl-tmp/MEDIQA2019_checkpoints.txt\", \"r\") as f:\n",
    "    checkpoints_list = f.readline().split(\" \")\n",
    "checkpoints_list = checkpoints_list[1:]\n",
    "print(checkpoints_list)\n",
    "with jsonlines.open(\"./MEDIQA2019/medAlpaca-7b_response.jsonl\") as reader:\n",
    "    reader = list(reader)\n",
    "    for i, line in enumerate(reader):\n",
    "        if(count == 50):\n",
    "            break\n",
    "        else:\n",
    "            if(i == int(checkpoints_list[count])):\n",
    "                writer = jsonlines.open(\"./MEDIQA2019/select_response.jsonl\", mode=\"a\")\n",
    "                writer.write(line)\n",
    "                writer.close()\n",
    "                count = count+1\n",
    "            else:\n",
    "                continue"
   ]
  },
  {
   "cell_type": "code",
   "execution_count": null,
   "id": "66dae075-d0f1-41b1-86e5-531ceabe4912",
   "metadata": {},
   "outputs": [],
   "source": []
  }
 ],
 "metadata": {
  "kernelspec": {
   "display_name": "Python 3 (ipykernel)",
   "language": "python",
   "name": "python3"
  },
  "language_info": {
   "codemirror_mode": {
    "name": "ipython",
    "version": 3
   },
   "file_extension": ".py",
   "mimetype": "text/x-python",
   "name": "python",
   "nbconvert_exporter": "python",
   "pygments_lexer": "ipython3",
   "version": "3.8.10"
  }
 },
 "nbformat": 4,
 "nbformat_minor": 5
}
