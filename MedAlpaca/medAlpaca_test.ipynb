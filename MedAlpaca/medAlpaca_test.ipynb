{
 "cells": [
  {
   "cell_type": "code",
   "execution_count": 2,
   "id": "9a06c86b-c59c-4762-85a3-29d2e656ac80",
   "metadata": {},
   "outputs": [
    {
     "data": {
      "application/vnd.jupyter.widget-view+json": {
       "model_id": "25486399e0be4fb486d2b08379d04f49",
       "version_major": 2,
       "version_minor": 0
      },
      "text/plain": [
       "Loading checkpoint shards:   0%|          | 0/33 [00:00<?, ?it/s]"
      ]
     },
     "metadata": {},
     "output_type": "display_data"
    },
    {
     "name": "stderr",
     "output_type": "stream",
     "text": [
      "You are using the default legacy behaviour of the <class 'transformers.models.llama.tokenization_llama.LlamaTokenizer'>. This is expected, and simply means that the `legacy` (previous) behavior will be used so nothing changes for you. If you want to use the new behaviour, set `legacy=False`. This should only be set if you understand what it means, and thouroughly read the reason why this was added as explained in https://github.com/huggingface/transformers/pull/24565\n"
     ]
    }
   ],
   "source": [
    "from medAlpaca.medalpaca.inferer import Inferer\n",
    "model = Inferer(\n",
    "        model_name='/root/autodl-fs/medalpaca-7b',\n",
    "        prompt_template=\"/root/autodl-tmp/medAlpaca/medAlpaca/medalpaca/prompt_templates/medalpaca.json\",\n",
    "        # base_model='decapoda-research/llama-7b-hf',\n",
    "        base_model = '/root/autodl-fs/llama-7b-hf',\n",
    "        peft=True,\n",
    "        load_in_8bit=True,\n",
    "    )\n"
   ]
  },
  {
   "cell_type": "code",
   "execution_count": 7,
   "id": "3843a631-3bca-4e9d-9718-8c82e3764268",
   "metadata": {},
   "outputs": [
    {
     "name": "stdout",
     "output_type": "stream",
     "text": [
      "According: Nuclear Magnetic Imaging (NMRI) is also known as spin imaging.\n",
      "During a breast MRI, a breast MRI scan is performed to evaluate the breast tissue for any abnormalities. The breast MRI scan is performed to evaluate the breast tissue for any abnormalities. The breast MRI scan is performed to evaluate the breast tissue for any abnormalities. The breast MRI scan is performed to evaluate the breast tissue for any abnormalities. The breast MRI scan is performed to evaluate the breast tissue for any abnormalities. The breast\n"
     ]
    }
   ],
   "source": [
    "question = \"What happens during a breast magnetic resonance imaging (MRI)?\"\n",
    "response = model(\n",
    "    instruction=\"According: Nuclear Magnetic Imaging (NMRI) is also known as spin imaging.\",\n",
    "    input=question,\n",
    "    output=\"Re:\",\n",
    "    temperature=1,\n",
    ")\n",
    "print(response)"
   ]
  },
  {
   "cell_type": "code",
   "execution_count": 25,
   "id": "0f19dffb-36f2-42c6-bdbd-c4d37e14fd4f",
   "metadata": {},
   "outputs": [
    {
     "name": "stdout",
     "output_type": "stream",
     "text": [
      "<class 'str'>\n",
      "['Can a doctor help me tell the difference between grief and depression?\\nThe answer to your question is yes', '\\nA doctor can help you tell the difference between grief and depression', '\\nThe doctor can help you by asking you questions about your symptoms and your life', '\\nThe doctor can help you by doing a physical exam', '\\nThe doctor can help you by doing tests', '\\nThe doctor can help you by talking to you about your feelings', '\\nThe doctor can help you by talking to you about your life', '\\nThe doctor can help you by talking to you about your family and friends', '\\nThe doctor can help you by talking to you about your work', '\\nThe doctor can help you by talking to you about your health', '\\nThe doctor can help you by talking to you about your health history', '\\nThe doctor can help you by talking to you about your health problems', '\\nThe doctor can help you by talking to you about your medicines', '\\nThe doctor can help you by talking to you about your medicines and your health', '\\nThe doctor can help you by talking to you about your medicines and your health history', '\\nThe doctor can help you by talking to you about your medicines and your health problems']\n",
      "Can a doctor help me tell the difference between grief and depression?\n",
      "The answer to your question is yes. \n",
      "A doctor can help you tell the difference between grief and depression. \n",
      "The doctor can help you by asking you questions about your symptoms and your life. \n",
      "The doctor can help you by doing a physical exam. \n",
      "The doctor can help you by doing tests. \n",
      "The doctor can help you by talking to you about your feelings. \n",
      "The doctor can help you by talking to you about your life. \n",
      "The doctor can help you by talking to you about your family and friends. \n",
      "The doctor can help you by talking to you about your work. \n",
      "The doctor can help you by talking to you about your health. \n",
      "The doctor can help you by talking to you about your health history. \n",
      "The doctor can help you by talking to you about your health problems. \n",
      "The doctor can help you by talking to you about your medicines. \n",
      "The doctor can help you by talking to you about your medicines and your health. \n",
      "The doctor can help you by talking to you about your medicines and your health history. \n",
      "The doctor can help you by talking to you about your medicines and your health problems.\n"
     ]
    }
   ],
   "source": [
    "print(type(response))\n",
    "response_list = response.split(\".\")[:-1]\n",
    "print(response.split(\".\")[:-1])\n",
    "for index,item in enumerate(response_list):\n",
    "    response_list[index] = str(item)+'.'\n",
    "print(' '.join(response_list))"
   ]
  },
  {
   "cell_type": "code",
   "execution_count": null,
   "id": "0319bbee-ed9e-4629-b6f0-5978ca1dad7c",
   "metadata": {},
   "outputs": [],
   "source": []
  }
 ],
 "metadata": {
  "kernelspec": {
   "display_name": "Python 3 (ipykernel)",
   "language": "python",
   "name": "python3"
  },
  "language_info": {
   "codemirror_mode": {
    "name": "ipython",
    "version": 3
   },
   "file_extension": ".py",
   "mimetype": "text/x-python",
   "name": "python",
   "nbconvert_exporter": "python",
   "pygments_lexer": "ipython3",
   "version": "3.8.10"
  }
 },
 "nbformat": 4,
 "nbformat_minor": 5
}
